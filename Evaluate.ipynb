{
 "cells": [
  {
   "cell_type": "code",
   "execution_count": 97,
   "metadata": {},
   "outputs": [],
   "source": [
    "import json\n",
    "from sklearn.metrics import normalized_mutual_info_score\n",
    "from sklearn.metrics import adjusted_rand_score\n",
    "import numpy as np"
   ]
  },
  {
   "cell_type": "code",
   "execution_count": 98,
   "metadata": {},
   "outputs": [],
   "source": [
    "with open('gt.txt') as f:\n",
    "    gt_text = f.readlines()\n",
    "with open('predicted.txt') as f:\n",
    "    pred_text = f.readlines()"
   ]
  },
  {
   "cell_type": "code",
   "execution_count": 99,
   "metadata": {},
   "outputs": [],
   "source": [
    "def serialize(text):\n",
    "    data = {}\n",
    "    key =-1\n",
    "    for row in text:\n",
    "        num = (row[row.find('=')+2: row.find(',')])\n",
    "        if num==\"{\":\n",
    "            key =key+1\n",
    "            data[key]=[]\n",
    "        else:\n",
    "            if num!= \"\" and num!= \"}\":\n",
    "                data[key].append(int(num))\n",
    "    return data"
   ]
  },
  {
   "cell_type": "code",
   "execution_count": 109,
   "metadata": {},
   "outputs": [],
   "source": [
    "datapoints=0\n",
    "for key in gt.keys():\n",
    "    datapoints+= len(gt[key])\n",
    "true_label = np.zeros(datapoints)\n",
    "pred_label = np.zeros(datapoints)\n",
    "gt = serialize(gt_text)\n",
    "pred = serialize(pred_text)\n",
    "for key in gt.keys():\n",
    "    for item in gt[key]:\n",
    "        true_label[item-1]= key\n",
    "for key in pred.keys():\n",
    "    for item in pred[key]:\n",
    "        pred_label[item-1]= key"
   ]
  },
  {
   "cell_type": "code",
   "execution_count": 110,
   "metadata": {},
   "outputs": [
    {
     "data": {
      "text/plain": [
       "0.982575109209352"
      ]
     },
     "execution_count": 110,
     "metadata": {},
     "output_type": "execute_result"
    }
   ],
   "source": [
    "normalized_mutual_info_score(true_label, pred_label) "
   ]
  },
  {
   "cell_type": "code",
   "execution_count": 111,
   "metadata": {},
   "outputs": [
    {
     "data": {
      "text/plain": [
       "0.9356923628896396"
      ]
     },
     "execution_count": 111,
     "metadata": {},
     "output_type": "execute_result"
    }
   ],
   "source": [
    "adjusted_rand_score(true_label, pred_label)"
   ]
  },
  {
   "cell_type": "code",
   "execution_count": 112,
   "metadata": {},
   "outputs": [
    {
     "name": "stdout",
     "output_type": "stream",
     "text": [
      "0.9763888888888889\n"
     ]
    }
   ],
   "source": [
    "from sklearn.metrics import confusion_matrix\n",
    "cm = confusion_matrix(true_label, pred_label)\n",
    "good = 0\n",
    "for i in range(len(cm)):\n",
    "    good += max(cm[i])\n",
    "print(good/len(true_label))"
   ]
  },
  {
   "cell_type": "code",
   "execution_count": null,
   "metadata": {},
   "outputs": [],
   "source": []
  }
 ],
 "metadata": {
  "kernelspec": {
   "display_name": "Python 3",
   "language": "python",
   "name": "python3"
  },
  "language_info": {
   "codemirror_mode": {
    "name": "ipython",
    "version": 3
   },
   "file_extension": ".py",
   "mimetype": "text/x-python",
   "name": "python",
   "nbconvert_exporter": "python",
   "pygments_lexer": "ipython3",
   "version": "3.6.5"
  }
 },
 "nbformat": 4,
 "nbformat_minor": 2
}
